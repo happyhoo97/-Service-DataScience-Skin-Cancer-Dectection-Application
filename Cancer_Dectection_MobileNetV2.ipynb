{
  "nbformat": 4,
  "nbformat_minor": 0,
  "metadata": {
    "colab": {
      "name": "Cancer Dectection MobileNetV2 ",
      "provenance": [],
      "authorship_tag": "ABX9TyMq3xUkqty+36HFaXWStZCy",
      "include_colab_link": true
    },
    "kernelspec": {
      "name": "python3",
      "display_name": "Python 3"
    },
    "language_info": {
      "name": "python"
    }
  },
  "cells": [
    {
      "cell_type": "markdown",
      "metadata": {
        "id": "view-in-github",
        "colab_type": "text"
      },
      "source": [
        "<a href=\"https://colab.research.google.com/github/happyhoo97/Skin-Cancer-Dectection-Application/blob/main/Cancer_Dectection_MobileNetV2.ipynb\" target=\"_parent\"><img src=\"https://colab.research.google.com/assets/colab-badge.svg\" alt=\"Open In Colab\"/></a>"
      ]
    },
    {
      "cell_type": "code",
      "execution_count": null,
      "metadata": {
        "id": "VG7-lHcS--rc"
      },
      "outputs": [],
      "source": [
        ""
      ]
    }
  ]
}